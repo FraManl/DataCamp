{
 "cells": [
  {
   "cell_type": "markdown",
   "metadata": {},
   "source": [
    "## Fundamental data types"
   ]
  },
  {
   "cell_type": "markdown",
   "metadata": {},
   "source": [
    "### Manipulating lists for fun and profit\n",
    "\n",
    "A list can be set with 1 single value/ index or multiples index as well.\n",
    "\n",
    "You may be familiar with adding individual data elements to a list by using the .append() method. However, if you want to combine a list with another array type (list, set, tuple), you can use the .extend() method on the list.\n",
    "\n",
    "You can also use the .index() method to find the position of an item in a list. You can then use that position to remove the item with the .pop() method.\n",
    "\n",
    "In this exercise, you'll practice using all these methods!"
   ]
  },
  {
   "cell_type": "code",
   "execution_count": 1,
   "metadata": {},
   "outputs": [
    {
     "data": {
      "image/png": "[encoded data removed]",
      "text/plain": [
       "<IPython.core.display.Image object>"
      ]
     },
     "execution_count": 1,
     "metadata": {},
     "output_type": "execute_result"
    }
   ],
   "source": [
    "from IPython.display import Image\n",
    "Image(\"C:/Users/T0230575/Desktop/Datalab LAS/Documentation/Method/type2.png\")"
   ]
  },
  {
   "cell_type": "code",
   "execution_count": 2,
   "metadata": {},
   "outputs": [
    {
     "name": "stdout",
     "output_type": "stream",
     "text": [
      "['Ximena', 'Aliza', 'Ayden', 'Calvin', 'Rowen', 'Sandeep']\n",
      "['Ximena', 'Ayden', 'Calvin', 'Rowen', 'Sandeep']\n"
     ]
    }
   ],
   "source": [
    "# Create a list containing the names: baby_names\n",
    "baby_names = ['Ximena','Aliza','Ayden','Calvin']\n",
    "\n",
    "# Extend baby_names with 'Rowen' and 'Sandeep'\n",
    "baby_names.extend(['Rowen','Sandeep'])\n",
    "\n",
    "# Print baby_names\n",
    "print(baby_names)\n",
    "\n",
    "# Find the position of 'Aliza': position\n",
    "position = baby_names.index('Aliza')\n",
    "\n",
    "# Remove 'Aliza' from baby_names\n",
    "baby_names.pop(position)\n",
    "\n",
    "# Print baby_names\n",
    "print(baby_names)"
   ]
  },
  {
   "cell_type": "markdown",
   "metadata": {},
   "source": [
    "### Looping over lists\n",
    "You can use a for loop to iterate through all the items in a list. You can take that a step further with the sorted() function which will sort the data in a list from lowest to highest in the case of numbers and alphabetical order if the list contains strings.\n",
    "\n",
    "The sorted() function returns a new list and does not affect the list you passed into the function. You can learn more about sorted() in the Python documentation.\n",
    "\n",
    "A list of lists, records has been pre-loaded. If you explore it in the IPython Shell, you'll see that each entry is a list of this form:\n",
    "\n",
    "['2011', 'FEMALE', 'HISPANIC', 'GERALDINE', '13', '75']\n",
    "\n",
    "The name of the baby ('GERALDINE') is the fourth entry of this list. Your job in this exercise is to loop over this list of lists and append the names of each baby to a new list called baby_names."
   ]
  },
  {
   "cell_type": "code",
   "execution_count": 3,
   "metadata": {},
   "outputs": [
    {
     "name": "stdout",
     "output_type": "stream",
     "text": [
      "['40']\n",
      "['40', '23']\n",
      "['40', '23', '19']\n",
      "['40', '23', '19', '32']\n",
      "['40', '23', '19', '32', '31']\n",
      "['40', '23', '19', '32', '31', '33']\n",
      "['40', '23', '19', '32', '31', '33', '39']\n",
      "['40', '23', '19', '32', '31', '33', '39', '26']\n",
      "['40', '23', '19', '32', '31', '33', '39', '26', '38']\n",
      "['40', '23', '19', '32', '31', '33', '39', '26', '38', '10']\n",
      "['40', '23', '19', '32', '31', '33', '39', '26', '38', '10', '39']\n",
      "['40', '23', '19', '32', '31', '33', '39', '26', '38', '10', '39', '39']\n",
      "['40', '23', '19', '32', '31', '33', '39', '26', '38', '10', '39', '39', '35']\n",
      "['40', '23', '19', '32', '31', '33', '39', '26', '38', '10', '39', '39', '35', '28']\n",
      "['40', '23', '19', '32', '31', '33', '39', '26', '38', '10', '39', '39', '35', '28', '35']\n",
      "['40', '23', '19', '32', '31', '33', '39', '26', '38', '10', '39', '39', '35', '28', '35', '33']\n",
      "Aarya\n",
      "Abby\n",
      "Abigail\n",
      "Aisha\n",
      "Aiza\n",
      "Aleena\n",
      "Alexandra\n",
      "Alice\n",
      "Alicia\n",
      "Alina\n",
      "Alisa\n",
      "Alisha\n",
      "Allison\n",
      "Alyssa\n",
      "Amanda\n",
      "Amber\n"
     ]
    }
   ],
   "source": [
    "# Create the empty list: baby_names\n",
    "baby_names = []\n",
    "\n",
    "records = [['2014', 'FEMALE', 'ASIAN AND PACIFIC ISLANDER', 'Aarya', '10', '40'],\n",
    "           ['2014', 'FEMALE', 'ASIAN AND PACIFIC ISLANDER', 'Abby', '27', '23'],\n",
    "           ['2014', 'FEMALE', 'ASIAN AND PACIFIC ISLANDER', 'Abigail', '31', '19'],\n",
    "           ['2014', 'FEMALE', 'ASIAN AND PACIFIC ISLANDER', 'Aisha', '18', '32'],\n",
    "           ['2014', 'FEMALE', 'ASIAN AND PACIFIC ISLANDER', 'Aiza', '19', '31'],\n",
    "           ['2014', 'FEMALE', 'ASIAN AND PACIFIC ISLANDER', 'Aleena', '17', '33'],\n",
    "           ['2014', 'FEMALE', 'ASIAN AND PACIFIC ISLANDER', 'Alexandra', '11', '39'],\n",
    "           ['2014', 'FEMALE', 'ASIAN AND PACIFIC ISLANDER', 'Alice', '24', '26'],\n",
    "           ['2014', 'FEMALE', 'ASIAN AND PACIFIC ISLANDER', 'Alicia', '12', '38'],\n",
    "           ['2014', 'FEMALE', 'ASIAN AND PACIFIC ISLANDER', 'Alina', '41', '10'],\n",
    "           ['2014', 'FEMALE', 'ASIAN AND PACIFIC ISLANDER', 'Alisa', '11', '39'],\n",
    "           ['2014', 'FEMALE', 'ASIAN AND PACIFIC ISLANDER', 'Alisha', '11', '39'],\n",
    "           ['2014', 'FEMALE', 'ASIAN AND PACIFIC ISLANDER', 'Allison', '15', '35'],\n",
    "           ['2014', 'FEMALE', 'ASIAN AND PACIFIC ISLANDER', 'Alyssa', '22', '28'],\n",
    "           ['2014', 'FEMALE', 'ASIAN AND PACIFIC ISLANDER', 'Amanda', '15', '35'],\n",
    "           ['2014', 'FEMALE', 'ASIAN AND PACIFIC ISLANDER', 'Amber', '17', '33']]\n",
    "\n",
    "my_list = []\n",
    "for r in records:\n",
    "    my_list.append(r[5])\n",
    "    print(my_list)\n",
    "\n",
    "# Loop over records \n",
    "for row in records:\n",
    "    # Add the name to the list\n",
    "    baby_names.append(row[3])\n",
    "    \n",
    "# Sort the names in alphabetical order\n",
    "for name in sorted(baby_names):\n",
    "    # Print each name\n",
    "    print(name)"
   ]
  },
  {
   "cell_type": "markdown",
   "metadata": {},
   "source": [
    "### Tuples\n",
    "\n",
    "Tuples are like super-lists, they allow to put values in pairs, indexed and orderly; they are immutable, but easier to process and more efficient with memory.\n",
    "\n",
    "Their function is to store matching elements in pairs, pairing information, often coming from different lists.\n",
    "This can be done by zipping 2 lists together using ``zip()``.\n",
    "\n",
    "When we say tuples, we mean an association in pair of 2 information, other than a dictionary.\n",
    "A list of tuples is a list of multiple pairs.\n",
    "\n",
    "- To retrieve the data from a tuple, we can unpack it using ``[index]``.\n",
    "- We can loop over them (they are iterables), unpacking is very efficient in loops\n",
    "- We can combine looping and unpacking.\n",
    "- ``enumerate()`` is a very useful method in iterating, as it helps unpacking tuples values as well as tuples index.\n",
    "- They can be created with ``zip()``, ``enumerate()``, or ``()``"
   ]
  },
  {
   "cell_type": "code",
   "execution_count": 4,
   "metadata": {},
   "outputs": [
    {
     "data": {
      "image/png": "[encoded data removed]",
      "text/plain": [
       "<IPython.core.display.Image object>"
      ]
     },
     "execution_count": 4,
     "metadata": {},
     "output_type": "execute_result"
    }
   ],
   "source": [
    "from IPython.display import Image\n",
    "Image(\"C:/Users/T0230575/Desktop/Datalab LAS/Documentation/Method/type1.png\")"
   ]
  },
  {
   "cell_type": "markdown",
   "metadata": {},
   "source": [
    "### Using and unpacking tuples\n",
    "Tuples are made of several items just like a list, but they cannot be modified in any way. It is very common for tuples to be used to represent data from a database. If you have a tuple like ('chocolate chip cookies', 15) and you want to access each part of the data, you can use an index just like a list. However, you can also \"unpack\" the tuple into multiple variables such as type, count = ('chocolate chip cookies', 15) that will set type to 'chocolate chip cookies' and count to 15.\n",
    "\n",
    "Often you'll want to pair up multiple array data types. The zip() function does just that. It will return a list of tuples containing one element from each list passed into zip().\n",
    "\n",
    "When looping over a list, you can also track your position in the list by using the enumerate() function. The function returns the index of the list item you are currently on in the list and the list item itself.\n",
    "\n",
    "You'll practice using the enumerate() and zip() functions in this exercise, in which your job is to pair up the most common boy and girl names. Two lists - girl_names and boy_names - have been pre-loaded into your workspace."
   ]
  },
  {
   "cell_type": "code",
   "execution_count": 5,
   "metadata": {},
   "outputs": [
    {
     "name": "stdout",
     "output_type": "stream",
     "text": [
      "<class 'list'>\n",
      "<class 'list'>\n",
      "<class 'list'>\n",
      "[0.41754533 0.45959236 0.06437384 0.17337134 0.65174223 0.18285054] [0.00522331 0.57559832 0.95919861 0.52956732 0.36977811 0.76782118]\n",
      "[0.41754533 0.45959236 0.06437384 0.17337134 0.65174223 0.18285054] [0.00522331 0.57559832 0.95919861 0.52956732 0.36977811 0.76782118]\n"
     ]
    }
   ],
   "source": [
    "import numpy as np\n",
    "\n",
    "data = np.random.rand(1, 6)\n",
    "\n",
    "list_data = list(data)\n",
    "print(type(list_data))\n",
    "\n",
    "data2 = np.random.rand(1, 6)\n",
    "list_data2 = list(data2)\n",
    "print(type(list_data2))\n",
    "\n",
    "tuple1 = list(zip(list_data, list_data2))\n",
    "print(type(tuple1))\n",
    "\n",
    "for i, j in tuple1:\n",
    "    print(i, j)\n",
    "\n",
    "for i, j in enumerate(tuple1):\n",
    "    var1, var2 = j\n",
    "    print(var1, var2)"
   ]
  },
  {
   "cell_type": "code",
   "execution_count": 6,
   "metadata": {},
   "outputs": [
    {
     "name": "stdout",
     "output_type": "stream",
     "text": [
      "Rank 0: Laura and Andrew\n",
      "Rank 1: Melissa and Mathew\n",
      "Rank 2: Alexia and Louis\n",
      "Rank 3: Lola and Paul\n",
      "Rank 4: Lolita and Alfred\n"
     ]
    }
   ],
   "source": [
    "boy_names = [\"Andrew\",\"Mathew\",\"Louis\",\"Paul\",\"Alfred\"]\n",
    "girl_names = [\"Laura\",\"Melissa\",\"Alexia\",\"Lola\",\"Lolita\"]\n",
    "\n",
    "# Pair up the girl and boy names: pairs\n",
    "pairs = list(zip(girl_names, boy_names))\n",
    "\n",
    "# Iterate over pairs\n",
    "for idx, pair in enumerate(pairs):\n",
    "    # Unpack pair: girl_name, boy_name\n",
    "    girl_name, boy_name = pair\n",
    "    # Print the rank and names associated with each rank\n",
    "    print('Rank {}: {} and {}'.format(idx, girl_name, boy_name))"
   ]
  },
  {
   "cell_type": "markdown",
   "metadata": {},
   "source": [
    "### Making tuples by accident\n",
    "Tuples are very powerful and useful, and it's super easy to make one by accident. All you have to do is create a variable and follow the assignment with a comma. This becomes an error when you try to use the variable later expecting it to be a string or a number.\n",
    "\n",
    "You can verify the data type of a variable with the type() function. In this exercise, you'll see for yourself how easy it is to make a tuple by accident."
   ]
  },
  {
   "cell_type": "code",
   "execution_count": 7,
   "metadata": {},
   "outputs": [
    {
     "name": "stdout",
     "output_type": "stream",
     "text": [
      "<class 'str'>\n",
      "<class 'tuple'>\n"
     ]
    }
   ],
   "source": [
    "# Create the normal variable: normal\n",
    "normal = 'simple'\n",
    "\n",
    "# Create the mistaken variable: error\n",
    "error = 'trailing comma',\n",
    "\n",
    "# Print the types of the variables\n",
    "print(type(normal))\n",
    "print(type(error))"
   ]
  },
  {
   "cell_type": "markdown",
   "metadata": {},
   "source": [
    " As you can see, the trailing comma caused error to be stored as a tuple instead of as a string. Watch out for those trailing commas!"
   ]
  },
  {
   "cell_type": "markdown",
   "metadata": {},
   "source": [
    "### Sets, for unordered and unique data\n",
    "\n",
    "Sets are excellent for juggling with uniques values in a data set, in columns, in rows etc.\n",
    "We use sets when we want to store unique data values, no-matter the order.\n",
    "\n",
    "It is almost always created from a list.\n",
    "Sets only store unique items."
   ]
  },
  {
   "cell_type": "code",
   "execution_count": 8,
   "metadata": {},
   "outputs": [
    {
     "data": {
      "image/png": "[encoded data removed]",
      "text/plain": [
       "<IPython.core.display.Image object>"
      ]
     },
     "execution_count": 8,
     "metadata": {},
     "output_type": "execute_result"
    }
   ],
   "source": [
    "from IPython.display import Image\n",
    "Image(\"C:/Users/T0230575/Desktop/Datalab LAS/Documentation/Method/type3.png\")"
   ]
  },
  {
   "cell_type": "markdown",
   "metadata": {},
   "source": [
    "### Finding all the data and the overlapping data between sets\n",
    "Sets have several methods to combine, compare, and study them all based on mathematical set theory. The .union() method returns a set of all the names found in the set you used the method on plus any sets passed as arguments to the method. You can also look for overlapping data in sets by using the .intersection() method on a set and passing another set as an argument. It will return an empty set if nothing matches.\n",
    "\n",
    "Your job in this exercise is to find the union and intersection in the names from 2011 and 2014. For this purpose, two sets have been pre-loaded into your workspace: baby_names_2011 and baby_names_2014.\n",
    "\n",
    "One quirk in the baby names dataset is that names in 2011 and 2012 are all in upper case, while names in 2013 and 2014 are in title case (where the first letter of each name is capitalized). Consequently, if you were to compare the 2011 and 2014 data in this form, you would find no overlapping names between the two years! To remedy this, we converted the names in 2011 to title case using Python's .title() method.\n",
    "\n",
    "Real-world data can often come with quirks like this - it's important to catch them to ensure your results are meaningful."
   ]
  },
  {
   "cell_type": "code",
   "execution_count": 9,
   "metadata": {},
   "outputs": [
    {
     "name": "stdout",
     "output_type": "stream",
     "text": [
      "13\n",
      "3\n"
     ]
    }
   ],
   "source": [
    "baby_names_2011 = set(['David','Kim','Laura','Jim','Thomas','Janelle'])\n",
    "baby_names_2014 = set(['Kim','Louis','Eloi','Francois','Janelle','Paul','Antoine','Nicolas','David','Alfred'])\n",
    "\n",
    "# Find the union: all_names\n",
    "all_names = baby_names_2011.union(baby_names_2014)\n",
    "\n",
    "# Print the count of names in all_names\n",
    "print(len(all_names))\n",
    "\n",
    "# Find the intersection: overlapping_names\n",
    "overlapping_names = baby_names_2011.intersection(baby_names_2014)\n",
    "\n",
    "# Print the count of names in overlapping_names\n",
    "print(len(overlapping_names))"
   ]
  },
  {
   "cell_type": "markdown",
   "metadata": {},
   "source": [
    "As you can see from the output of len(overlapping_names), there are 3 overlapping names between the two sets."
   ]
  },
  {
   "cell_type": "markdown",
   "metadata": {},
   "source": [
    "### Determining set differences\n",
    "Another way of comparing sets is to use the difference() method. It returns all the items found in one set but not another. It's important to remember the set you call the method on will be the one from which the items are returned. Unlike tuples, you can add() items to a set. A set will only add items that do not exist in the set.\n",
    "\n",
    "In this exercise, you'll explore what names were common in 2011, but are no longer common in 2014. The set baby_names_2014 has been pre-loaded into your workspace. As in the previous exercise, the names have been converted to title case to ensure a proper comparison."
   ]
  },
  {
   "cell_type": "code",
   "execution_count": 10,
   "metadata": {},
   "outputs": [
    {
     "name": "stdout",
     "output_type": "stream",
     "text": [
      "{'Jaylyn', 'Itzel', 'Jessica', 'Isabel', 'Giselle', 'Juliet', 'Jocelyn', 'Jasmine', 'Imani', 'Helen', 'Heidy', 'Jimena', 'Julia', 'Jazlyn', 'Jamie', 'Jayda', 'Izabella', 'Guadalupe', 'Jazmin', 'Johanna', 'Jade', 'Joselyn', 'Gia', 'Haylee', 'Laura', 'Jasmin', 'Julianna', 'Jaelynn', 'Jaslene', 'Jaylin', 'Isabella', 'Iris', 'Heaven', 'Jada', 'Juliana', 'Isis', 'Juliette', 'Jaylene', 'Jennifer', 'Jayla', 'Hayley', 'Hazel', 'Jacqueline', 'Jayleen', 'Irene', 'Haley', 'Isabelle', 'Grace', 'Hailey', 'Jaylah', 'Heidi', 'Ingrid', 'Isabela', 'Jazmine', 'Hannah'}\n"
     ]
    }
   ],
   "source": [
    "records = [['2011', 'FEMALE', 'HISPANIC', 'Laura', '13', '75'],\n",
    "           ['2011', 'FEMALE', 'HISPANIC', 'Gia', '21', '67'],\n",
    "           ['2011', 'FEMALE', 'HISPANIC', 'David', '49', '42'],\n",
    "           ['2011', 'FEMALE', 'HISPANIC', 'Giselle', '38', '51'],\n",
    "           ['2011', 'FEMALE', 'HISPANIC', 'Grace', '36', '53'],\n",
    "           ['2011', 'FEMALE', 'HISPANIC', 'Guadalupe', '26', '62'],\n",
    "           ['2011', 'FEMALE', 'HISPANIC', 'Hailey', '126', '8'],\n",
    "           ['2011', 'FEMALE', 'HISPANIC', 'Haley', '14', '74'],\n",
    "           ['2011', 'FEMALE', 'HISPANIC', 'Hannah', '17', '71'],\n",
    "           ['2011', 'FEMALE', 'HISPANIC', 'Haylee', '17', '71'],\n",
    "           ['2011', 'FEMALE', 'HISPANIC', 'Hayley', '13', '75'],\n",
    "           ['2011', 'FEMALE', 'HISPANIC', 'Hazel', '10', '78'],\n",
    "           ['2011', 'FEMALE', 'HISPANIC', 'Heaven', '15', '73'],\n",
    "           ['2011', 'FEMALE', 'HISPANIC', 'Heidi', '15', '73'],\n",
    "           ['2011', 'FEMALE', 'HISPANIC', 'Heidy', '16', '72'],\n",
    "           ['2011', 'FEMALE', 'HISPANIC', 'Helen', '13', '75'],\n",
    "           ['2011', 'FEMALE', 'HISPANIC', 'Imani', '11', '77'],\n",
    "           ['2011', 'FEMALE', 'HISPANIC', 'Ingrid', '11', '77'],\n",
    "           ['2011', 'FEMALE', 'HISPANIC', 'Irene', '11', '77'],\n",
    "           ['2011', 'FEMALE', 'HISPANIC', 'Iris', '10', '78'],\n",
    "           ['2011', 'FEMALE', 'HISPANIC', 'Isabel', '28', '60'],\n",
    "           ['2011', 'FEMALE', 'HISPANIC', 'Isabela', '10', '78'],\n",
    "           ['2011', 'FEMALE', 'HISPANIC', 'Isabella', '331', '1'],\n",
    "           ['2011', 'FEMALE', 'HISPANIC', 'Isabelle', '18', '70'],\n",
    "           ['2011', 'FEMALE', 'HISPANIC', 'Isis', '13', '75'],\n",
    "           ['2011', 'FEMALE', 'HISPANIC', 'Itzel', '27', '61'],\n",
    "           ['2011', 'FEMALE', 'HISPANIC', 'Izabella', '23', '65'],\n",
    "           ['2011', 'FEMALE', 'HISPANIC', 'Jacqueline', '30', '58'],\n",
    "           ['2011', 'FEMALE', 'HISPANIC', 'Jada', '21', '67'], \n",
    "           ['2011', 'FEMALE', 'HISPANIC', 'Jade', '50', '41'],\n",
    "           ['2011', 'FEMALE', 'HISPANIC', 'Jaelynn', '11', '77'],\n",
    "           ['2011', 'FEMALE', 'HISPANIC', 'Jamie', '11', '77'],\n",
    "           ['2011', 'FEMALE', 'HISPANIC', 'Janelle', '12', '76'],\n",
    "           ['2011', 'FEMALE', 'HISPANIC', 'Jaslene', '11', '77'],\n",
    "           ['2011', 'FEMALE', 'HISPANIC', 'Jasmin', '20', '68'],\n",
    "           ['2011', 'FEMALE', 'HISPANIC', 'Jasmine', '41', '48'],\n",
    "           ['2011', 'FEMALE', 'HISPANIC', 'Jayda', '10', '78'],\n",
    "           ['2011', 'FEMALE', 'HISPANIC', 'Jayla', '33', '55'],\n",
    "           ['2011', 'FEMALE', 'HISPANIC', 'Jaylah', '12', '76'],\n",
    "           ['2011', 'FEMALE', 'HISPANIC', 'Jayleen', '51', '40'],\n",
    "           ['2011', 'FEMALE', 'HISPANIC', 'Jaylene', '22', '66'],\n",
    "           ['2011', 'FEMALE', 'HISPANIC', 'Jaylin', '13', '75'],\n",
    "           ['2011', 'FEMALE', 'HISPANIC', 'Jaylyn', '10', '78'],\n",
    "           ['2011', 'FEMALE', 'HISPANIC', 'Jazlyn', '16', '72'],\n",
    "           ['2011', 'FEMALE', 'HISPANIC', 'Jazmin', '24', '64'],\n",
    "           ['2011', 'FEMALE', 'HISPANIC', 'Jazmine', '14', '74'],\n",
    "           ['2011', 'FEMALE', 'HISPANIC', 'Jennifer', '59', '34'],\n",
    "           ['2011', 'FEMALE', 'HISPANIC', 'Jessica', '46', '44'],\n",
    "           ['2011', 'FEMALE', 'HISPANIC', 'Jimena', '11', '77'],\n",
    "           ['2011', 'FEMALE', 'HISPANIC', 'Jocelyn', '46', '44'],\n",
    "           ['2011', 'FEMALE', 'HISPANIC', 'Johanna', '12', '76'],\n",
    "           ['2011', 'FEMALE', 'HISPANIC', 'Joselyn', '30', '58'],\n",
    "           ['2011', 'FEMALE', 'HISPANIC', 'Julia', '22', '66'], \n",
    "           ['2011', 'FEMALE', 'HISPANIC', 'Juliana', '16', '72'],\n",
    "           ['2011', 'FEMALE', 'HISPANIC', 'Julianna', '21', '67'],\n",
    "           ['2011', 'FEMALE', 'HISPANIC', 'Juliet', '20', '68'],\n",
    "           ['2011', 'FEMALE', 'HISPANIC', 'Juliette', '15', '73']]\n",
    "\n",
    "# Create the empty set: baby_names_2011\n",
    "baby_names_2011 = set()\n",
    "\n",
    "# Loop over records and add the names from 2011 to the baby_names_2011 set\n",
    "for row in records:\n",
    "    # Check if the first column is '2011'\n",
    "    if row[0] == '2011':\n",
    "        # Add the fourth column to the set\n",
    "        baby_names_2011.add(row[3])\n",
    "\n",
    "# Find the difference between 2011 and 2014: differences\n",
    "differences = baby_names_2011.difference(baby_names_2014)\n",
    "\n",
    "# Print the differences\n",
    "print(differences)"
   ]
  },
  {
   "cell_type": "markdown",
   "metadata": {},
   "source": [
    "### Dictionaries\n",
    "\n",
    "Dictionaries are useful for storing key:value pairs, grouping data, structuring data with hierarchical rules.\n",
    "Their association key:value is a tuple. So a dictionary is a collection of key:value pairs tuples. They are iterable, mutable and nestable."
   ]
  },
  {
   "cell_type": "code",
   "execution_count": 11,
   "metadata": {},
   "outputs": [
    {
     "data": {
      "image/png": "[encoded data removed]",
      "text/plain": [
       "<IPython.core.display.Image object>"
      ]
     },
     "execution_count": 11,
     "metadata": {},
     "output_type": "execute_result"
    }
   ],
   "source": [
    "from IPython.display import Image\n",
    "Image(\"C:/Users/T0230575/Desktop/Datalab LAS/Documentation/Method/type4.png\")"
   ]
  },
  {
   "cell_type": "markdown",
   "metadata": {},
   "source": [
    "Be careful, retrieving values from a dictionary can only be done using the key as an idex."
   ]
  },
  {
   "cell_type": "markdown",
   "metadata": {},
   "source": [
    "### Creating and looping through dictionaries\n",
    "You'll often encounter the need to loop over some array type data, like in Chapter 1, and provide it some structure so you can find the data you desire quickly.\n",
    "\n",
    "You start that by creating an empty dictionary and assigning part of your array data as the key and the rest as the value.\n",
    "\n",
    "Previously, you used sorted() to organize your data in a list. Dictionaries can also be sorted. By default, using sorted() on a dictionary will sort by the keys of the dictionary. You can also reverse the order by passing reverse=True as a keyword argument.\n",
    "\n",
    "Finally, since sorted returns a list, you can use slice notation to select only part of the list. For example, [:10] will slice the first ten items off a list and return only those items."
   ]
  },
  {
   "cell_type": "markdown",
   "metadata": {},
   "source": [
    "Dictionaries can be created by either using the ``dict()`` method or using curly braces ``{}``.\n",
    "In loops, their content can be referenced as ``items()``."
   ]
  },
  {
   "cell_type": "code",
   "execution_count": 12,
   "metadata": {},
   "outputs": [
    {
     "name": "stdout",
     "output_type": "stream",
     "text": [
      "YARA\n",
      "TZIVIA\n",
      "YITTA\n",
      "TZIPORA\n",
      "SHAINA\n",
      "SIMA\n",
      "SYLVIA\n",
      "YEHUDIS\n",
      "VERA\n",
      "SLOANE\n",
      "SIMONE\n",
      "VANESSA\n",
      "SAVANNAH\n",
      "YAEL\n",
      "LILIANA\n",
      "This is index # : 1, this is the corresponding name : EMMA\n",
      "This is index # : 2, this is the corresponding name : LEAH\n",
      "This is index # : 3, this is the corresponding name : SARAH\n",
      "This is index # : 4, this is the corresponding name : SOPHIA\n",
      "This is index # : 5, this is the corresponding name : ESTHER\n",
      "This is index # : 6, this is the corresponding name : RACHEL\n",
      "This is index # : 7, this is the corresponding name : CHAYA\n",
      "This is index # : 8, this is the corresponding name : AVA\n",
      "This is index # : 9, this is the corresponding name : CHANA\n",
      "This is index # : 10, this is the corresponding name : MIRIAM\n",
      "This is index # : 11, this is the corresponding name : ELLA\n",
      "This is index # : 12, this is the corresponding name : EMILY\n",
      "This is index # : 13, this is the corresponding name : MIA\n",
      "This is index # : 14, this is the corresponding name : SARA\n",
      "This is index # : 15, this is the corresponding name : CHARLOTTE\n",
      "This is index # : 16, this is the corresponding name : ISABELLA\n",
      "This is index # : 17, this is the corresponding name : MAYA\n",
      "This is index # : 18, this is the corresponding name : ELIZABETH\n",
      "This is index # : 19, this is the corresponding name : ABIGAIL\n",
      "This is index # : 20, this is the corresponding name : ALEXANDRA\n",
      "This is index # : 21, this is the corresponding name : VICTORIA\n",
      "This is index # : 22, this is the corresponding name : LILY\n",
      "This is index # : 23, this is the corresponding name : SOFIA\n",
      "This is index # : 24, this is the corresponding name : RIVKA\n",
      "This is index # : 25, this is the corresponding name : ZOE\n",
      "This is index # : 26, this is the corresponding name : JULIA\n",
      "This is index # : 27, this is the corresponding name : SOPHIE\n",
      "This is index # : 28, this is the corresponding name : GABRIELLA\n",
      "This is index # : 29, this is the corresponding name : HANNAH\n",
      "This is index # : 30, this is the corresponding name : GRACE\n",
      "This is index # : 31, this is the corresponding name : AVERY\n",
      "This is index # : 32, this is the corresponding name : STELLA\n",
      "This is index # : 33, this is the corresponding name : SHAINDY\n",
      "This is index # : 34, this is the corresponding name : FAIGY\n",
      "This is index # : 35, this is the corresponding name : GITTY\n",
      "This is index # : 36, this is the corresponding name : MADISON\n",
      "This is index # : 37, this is the corresponding name : MALKY\n",
      "This is index # : 38, this is the corresponding name : EVA\n",
      "This is index # : 39, this is the corresponding name : MALKA\n",
      "This is index # : 40, this is the corresponding name : ALEXA\n",
      "This is index # : 41, this is the corresponding name : MADELINE\n",
      "This is index # : 42, this is the corresponding name : PENELOPE\n",
      "This is index # : 43, this is the corresponding name : TOBY\n",
      "This is index # : 44, this is the corresponding name : RIVKY\n",
      "This is index # : 45, this is the corresponding name : NICOLE\n",
      "This is index # : 46, this is the corresponding name : VIOLET\n",
      "This is index # : 47, this is the corresponding name : NATALIE\n",
      "This is index # : 48, this is the corresponding name : REBECCA\n",
      "This is index # : 49, this is the corresponding name : MARIA\n",
      "This is index # : 50, this is the corresponding name : YITTY\n",
      "This is index # : 51, this is the corresponding name : NINA\n",
      "This is index # : 52, this is the corresponding name : KATHERINE\n",
      "This is index # : 53, this is the corresponding name : RILEY\n",
      "This is index # : 54, this is the corresponding name : SIENNA\n",
      "This is index # : 55, this is the corresponding name : SYDNEY\n",
      "This is index # : 56, this is the corresponding name : VIVIENNE\n",
      "This is index # : 57, this is the corresponding name : VALENTINA\n",
      "This is index # : 58, this is the corresponding name : TALIA\n",
      "This is index # : 59, this is the corresponding name : JOSEPHINE\n",
      "This is index # : 60, this is the corresponding name : FRANCESCA\n",
      "This is index # : 61, this is the corresponding name : ZISSY\n",
      "This is index # : 62, this is the corresponding name : SURY\n",
      "This is index # : 63, this is the corresponding name : NAOMI\n",
      "This is index # : 64, this is the corresponding name : YIDES\n",
      "This is index # : 65, this is the corresponding name : SKYLAR\n",
      "This is index # : 66, this is the corresponding name : VERONICA\n",
      "This is index # : 67, this is the corresponding name : TAYLOR\n",
      "This is index # : 68, this is the corresponding name : ZOEY\n",
      "This is index # : 69, this is the corresponding name : LILIANA\n",
      "This is index # : 70, this is the corresponding name : YAEL\n",
      "This is index # : 71, this is the corresponding name : SAVANNAH\n",
      "This is index # : 72, this is the corresponding name : VANESSA\n",
      "This is index # : 73, this is the corresponding name : SIMONE\n",
      "This is index # : 74, this is the corresponding name : SLOANE\n",
      "This is index # : 75, this is the corresponding name : VERA\n",
      "This is index # : 76, this is the corresponding name : YEHUDIS\n",
      "This is index # : 77, this is the corresponding name : SYLVIA\n",
      "This is index # : 78, this is the corresponding name : SIMA\n",
      "This is index # : 79, this is the corresponding name : SHAINA\n",
      "This is index # : 80, this is the corresponding name : TZIPORA\n",
      "This is index # : 81, this is the corresponding name : YITTA\n",
      "This is index # : 82, this is the corresponding name : TZIVIA\n",
      "This is index # : 83, this is the corresponding name : YARA\n",
      "EMMA\n",
      "LEAH\n",
      "SARAH\n",
      "SOPHIA\n",
      "ESTHER\n",
      "RACHEL\n",
      "CHAYA\n",
      "AVA\n",
      "CHANA\n",
      "MIRIAM\n"
     ]
    }
   ],
   "source": [
    "female_baby_names_2012 = {1: 'EMMA', 2: 'LEAH', 3: 'SARAH', 4: 'SOPHIA', 5: 'ESTHER', 6: 'RACHEL', 7: 'CHAYA', 8: 'AVA', 9: 'CHANA', 10: 'MIRIAM', 11: 'ELLA', 12: 'EMILY', 13: 'MIA', 14: 'SARA', 15: 'CHARLOTTE', 16: 'ISABELLA', 17: 'MAYA', 18: 'ELIZABETH', 19: 'ABIGAIL', 20: 'ALEXANDRA', 21: 'VICTORIA', 22: 'LILY', 23: 'SOFIA', 24: 'RIVKA', 25: 'ZOE', 26: 'JULIA', 27: 'SOPHIE', 28: 'GABRIELLA', 29: 'HANNAH', 30: 'GRACE', 31: 'AVERY', 32: 'STELLA', 33: 'SHAINDY', 34: 'FAIGY', 35: 'GITTY', 36: 'MADISON', 37: 'MALKY', 38: 'EVA', 39: 'MALKA', 40: 'ALEXA', 41: 'MADELINE', 42: 'PENELOPE', 43: 'TOBY', 44: 'RIVKY', 45: 'NICOLE', 46: 'VIOLET', 47: 'NATALIE', 48: 'REBECCA', 49: 'MARIA', 50: 'YITTY', 51: 'NINA', 52: 'KATHERINE', 53: 'RILEY', 54: 'SIENNA', 55: 'SYDNEY', 56: 'VIVIENNE', 57: 'VALENTINA', 58: 'TALIA', 59: 'JOSEPHINE', 60: 'FRANCESCA', 61: 'ZISSY', 62: 'SURY', 63: 'NAOMI', 64: 'YIDES', 65: 'SKYLAR', 66: 'VERONICA', 67: 'TAYLOR', 68: 'ZOEY', 69: 'LILIANA', 70: 'YAEL', 71: 'SAVANNAH', 72: 'VANESSA', 73: 'SIMONE', 74: 'SLOANE', 75: 'VERA', 76: 'YEHUDIS', 77: 'SYLVIA', 78: 'SIMA', 79: 'SHAINA', 80: 'TZIPORA', 81: 'YITTA', 82: 'TZIVIA', 83: 'YARA'}\n",
    "\n",
    "# Create an empty dictionary: names_by_rank\n",
    "names_by_rank = {}\n",
    "\n",
    "# Loop over the girl names\n",
    "for rank, name in female_baby_names_2012.items():\n",
    "    # Add each name to the names_by_rank dictionary using rank as the key\n",
    "    names_by_rank[rank] = name\n",
    "    \n",
    "# Sort the names_by_rank dict by rank in descending order and slice the first 10 items\n",
    "for rank in sorted(names_by_rank, reverse=True)[:15]:\n",
    "    # Print each item\n",
    "    print(names_by_rank[rank])\n",
    "    \n",
    "for position, name in female_baby_names_2012.items():\n",
    "    print('This is index # : {}, this is the corresponding name : {}'.format(position, name))\n",
    "\n",
    "for position in sorted(female_baby_names_2012)[:10]:\n",
    "        print(female_baby_names_2012[position])"
   ]
  },
  {
   "cell_type": "markdown",
   "metadata": {},
   "source": [
    "### Safely finding by key\n",
    "As demonstrated in the video, if you attempt to access a key that isn't present in a dictionary, you'll get a KeyError. One option to handle this type of error is to use a try: except: block. You can learn more about error handling in Python Data Science Toolbox (Part 1), specifically in this video.\n",
    "\n",
    "Python provides a faster, more versatile tool to help with this problem in the form of the .get() method. The .get() method allows you to supply the name of a key, and optionally, what you'd like to have returned if the key is not found.\n",
    "\n",
    "You'll be using same names dictionary from the previous exercise and will gain practice using the .get() method."
   ]
  },
  {
   "cell_type": "code",
   "execution_count": 13,
   "metadata": {},
   "outputs": [
    {
     "name": "stdout",
     "output_type": "stream",
     "text": [
      "This is the tuples :  [(1, 'Paul'), (2, 'Vincent'), (3, 'David'), (4, 'Laura'), (5, 'Jil'), (6, 'Kim'), (7, 'Francois'), (8, 'Fei'), (9, 'Eloi'), (10, 'Xulin')]\n",
      "This is the tuples directly inserted into a dict() :  {1: 'Paul', 2: 'Vincent', 3: 'David', 4: 'Laura', 5: 'Jil', 6: 'Kim', 7: 'Francois', 8: 'Fei', 9: 'Eloi', 10: 'Xulin'}\n",
      "This is the dictionary generated iterating over the tuples key,value pairs :  {1: 'Paul', 2: 'Vincent', 3: 'David', 4: 'Laura', 5: 'Jil', 6: 'Kim', 7: 'Francois', 8: 'Fei', 9: 'Eloi', 10: 'Xulin'}\n",
      "dict_keys([1, 2, 3, 4, 5, 6, 7, 8, 9, 10])\n",
      "Francois\n",
      "<class 'NoneType'>\n",
      "Not Found\n",
      "dict_keys([1, 2, 3, 4, 5, 6, 7, 8, 9, 10])\n"
     ]
    }
   ],
   "source": [
    "list_key = list(np.arange(1, 11, dtype='int'))\n",
    "list_value = ['Paul','Vincent','David','Laura','Jil','Kim','Francois','Fei','Eloi','Xulin']\n",
    "\n",
    "tuples = list(zip(list_key, list_value))\n",
    "print(\"This is the tuples : \", tuples)\n",
    "\n",
    "tuples_dict = dict(list(zip(list_key, list_value)))\n",
    "print(\"This is the tuples directly inserted into a dict() : \", tuples_dict)\n",
    "\n",
    "out_dict = {}\n",
    "for key, value in tuples:\n",
    "    out_dict[key] = value\n",
    "print(\"This is the dictionary generated iterating over the tuples key,value pairs : \", out_dict)\n",
    "print(out_dict.keys())\n",
    "\n",
    "names = {}\n",
    "for key, value in tuples:\n",
    "    names[key] = value\n",
    "\n",
    "# Safely print rank 7 from the names dictionary\n",
    "print(names.get(7))\n",
    "\n",
    "# Safely print the type of rank 100 from the names dictionary\n",
    "print(type(names.get(13)))\n",
    "\n",
    "# Safely print rank 105 from the names dictionary or 'Not Found'\n",
    "print(names.get(12, 'Not Found'))\n",
    "\n",
    "print(names.keys())"
   ]
  },
  {
   "cell_type": "markdown",
   "metadata": {},
   "source": [
    "### Dealing with nested data\n",
    "A dictionary can contain another dictionary as the value of a key, and this is a very common way to deal with repeating data structures such as yearly, monthly or weekly data. All the same rules apply when creating or accessing the dictionary.\n",
    "\n",
    "For example, if you had a dictionary that had a ranking of my cookie consumption by year and type of cookie. It might look like cookies = {'2017': {'chocolate chip': 483, 'peanut butter': 115}, '2016': {'chocolate chip': 9513, 'peanut butter': 6792}}. I could access how many chocolate chip cookies I ate in 2016 using cookies['2016']['chocolate chip'].\n",
    "\n",
    "When exploring a new dictionary, it can be helpful to use the .keys() method to get an idea of what data might be available within the dictionary. You can also iterate over a dictionary and it will return each key in the dictionary for you to use inside the loop. Here, a dictionary called boy_names has been loaded into your workspace. It consists of all male names in 2013 and 2014."
   ]
  },
  {
   "cell_type": "code",
   "execution_count": 50,
   "metadata": {},
   "outputs": [
    {
     "name": "stdout",
     "output_type": "stream",
     "text": [
      "This is with .setdefault() method :  {'2010': {1: 'Paul', 2: 'Vincent', 3: 'David'}, '2011': {4: 'Laura', 5: 'Jil', 6: 'Kim'}, '2012': {7: 'Francois'}, '2013': {8: 'Fei', 9: 'Eloi', 10: 'Xulin'}}\n",
      "This is with defaultdict package :  {'2010': {1: 'Paul', 2: 'Vincent', 3: 'David'}, '2011': {4: 'Laura', 5: 'Jil', 6: 'Kim'}, '2012': {7: 'Francois'}, '2013': {8: 'Fei', 9: 'Eloi', 10: 'Xulin'}}\n",
      "2010 Unknown\n",
      "2011 Laura\n",
      "2012 Unknown\n",
      "2013 Unknown\n"
     ]
    }
   ],
   "source": [
    "list_metakey = list(['2010','2010','2010','2011','2011','2011','2012','2013','2013','2013'])\n",
    "list_key = list(np.arange(1, 11, dtype = 'int'))\n",
    "list_value = ['Paul','Vincent','David','Laura','Jil','Kim','Francois','Fei','Eloi','Xulin']\n",
    "\n",
    "_tuples = list(zip(list_metakey, list_key, list_value))\n",
    "_dict =  {}\n",
    "\n",
    "for metakey, key, value in _tuples:\n",
    "    _dict.setdefault(metakey, {}).update({key: value})\n",
    "print(\"This is with .setdefault() method : \", _dict)\n",
    "\n",
    "\n",
    "from collections import defaultdict\n",
    "for metakey, key, value in _tuples:\n",
    "    _dict[metakey][key] = value\n",
    "print(\"This is with defaultdict package : \", _dict)\n",
    "\n",
    "_dict\n",
    "_dict.keys()\n",
    "_dict['2013']\n",
    "\n",
    "for metakey in _dict:\n",
    "    print(metakey, _dict[metakey].get(4, 'Unknown'))"
   ]
  },
  {
   "cell_type": "code",
   "execution_count": 51,
   "metadata": {},
   "outputs": [
    {
     "name": "stdout",
     "output_type": "stream",
     "text": [
      "[('2010', 'A', 55), ('2010', 'B', 51), ('2011', 'A', 50), ('2011', 'B', 47), ('2011', 'C', 34), ('2012', 'A', 37)]\n",
      "{'2010': {'A': 55, 'B': 51}, '2011': {'A': 50, 'B': 47, 'C': 34}, '2012': {'A': 37}}\n",
      "dict_keys(['2010', '2011', '2012'])\n",
      "dict_keys(['A', 'B'])\n",
      "2010 51\n",
      "2011 47\n",
      "2012 Unknown\n"
     ]
    }
   ],
   "source": [
    "_list1 = ['2010','2010','2011','2011','2011','2012']\n",
    "_list2 = ['A','B','A','B','C','A']\n",
    "_list3 = [55,51,50,47,34,37]\n",
    "\n",
    "_tuples = list(zip(_list1, _list2, _list3))\n",
    "print(_tuples)\n",
    "\n",
    "_dict = {}\n",
    "\n",
    "for metakey, key, value in _tuples:\n",
    "    _dict.setdefault(metakey, {}).update({key: value})\n",
    "\n",
    "from collections import defaultdict\n",
    "for metakey, key, value in _tuples:\n",
    "    _dict[metakey][key] = value\n",
    "print(_dict)\n",
    "\n",
    "\n",
    "# Print a list of keys from the boy_names dictionary\n",
    "print(_dict.keys())\n",
    "\n",
    "# Print a list of keys from the boy_names dictionary for the year 2013\n",
    "print(_dict['2010'].keys())\n",
    "\n",
    "# Loop over the dictionary\n",
    "for meta_key in _dict:\n",
    "    # Safely print the year and the third ranked name or 'Unknown'\n",
    "    print(meta_key, _dict[meta_key].get(\"B\", 'Unknown'))"
   ]
  },
  {
   "cell_type": "markdown",
   "metadata": {},
   "source": [
    "### Altering dictionaries\n",
    "\n",
    "- adding/extending data to a dictionary\n",
    "- removing data from a dictionary"
   ]
  },
  {
   "cell_type": "markdown",
   "metadata": {},
   "source": [
    "### Adding and extending dictionaries\n",
    "If you have a dictionary and you want to add data to it, you can simply create a new key and assign the data you desire to it. It's important to remember that if it's a nested dictionary, then all the keys in the data path must exist, and each key in the path must be assigned individually.\n",
    "\n",
    "You can also use the .update() method to update a dictionary with keys and values from another dictionary, tuples or keyword arguments.\n",
    "\n",
    "Here, you'll combine several techniques used in prior exercises to setup your dictionary in a way that makes it easy to find the least popular baby name for each year.\n",
    "\n",
    "Your job is to add data for the year 2011 to your dictionary by assignment, 2012 by update, and then find the least popular baby name for each year."
   ]
  },
  {
   "cell_type": "code",
   "execution_count": null,
   "metadata": {},
   "outputs": [],
   "source": [
    "# Assign the names_2011 dictionary as the value to the 2011 key of boy_names\n",
    "boy_names[2011] = names_2011\n",
    "\n",
    "# Update the 2012 key in the boy_names dictionary\n",
    "boy_names[2012].update([(1,'Casey'), (2,'Aiden')])\n",
    "\n",
    "# Loop over the years in the boy_names dictionary \n",
    "for year in boy_names:\n",
    "    # sort the data for each year by descending rank and get the lowest one\n",
    "    lowest_ranked = sorted(boy_names[year], reverse=True)[0]\n",
    "    # Safely print the year and the least popular name or 'Not Available'\n",
    "    print(year, boy_names[year].get(lowest_ranked, 'Not Available'))"
   ]
  },
  {
   "cell_type": "markdown",
   "metadata": {},
   "source": [
    "It looks like 'Yonah', 'Yitzchak', and 'Yidel' were the least popular baby names in 2011, 2013, and 2014. The dictionary in the 2012 key of boy_names did not contain any data until you added 'Casey' and 'Aiden', so unsurprisingly, 'Aiden' is the least popular name."
   ]
  },
  {
   "cell_type": "code",
   "execution_count": null,
   "metadata": {},
   "outputs": [],
   "source": []
  },
  {
   "cell_type": "code",
   "execution_count": null,
   "metadata": {},
   "outputs": [],
   "source": []
  },
  {
   "cell_type": "code",
   "execution_count": null,
   "metadata": {},
   "outputs": [],
   "source": []
  },
  {
   "cell_type": "code",
   "execution_count": null,
   "metadata": {},
   "outputs": [],
   "source": []
  },
  {
   "cell_type": "code",
   "execution_count": null,
   "metadata": {},
   "outputs": [],
   "source": []
  },
  {
   "cell_type": "code",
   "execution_count": null,
   "metadata": {},
   "outputs": [],
   "source": []
  },
  {
   "cell_type": "code",
   "execution_count": null,
   "metadata": {},
   "outputs": [],
   "source": []
  },
  {
   "cell_type": "code",
   "execution_count": null,
   "metadata": {},
   "outputs": [],
   "source": []
  },
  {
   "cell_type": "code",
   "execution_count": null,
   "metadata": {},
   "outputs": [],
   "source": []
  },
  {
   "cell_type": "code",
   "execution_count": null,
   "metadata": {},
   "outputs": [],
   "source": []
  },
  {
   "cell_type": "code",
   "execution_count": null,
   "metadata": {},
   "outputs": [],
   "source": []
  },
  {
   "cell_type": "code",
   "execution_count": null,
   "metadata": {},
   "outputs": [],
   "source": []
  },
  {
   "cell_type": "code",
   "execution_count": null,
   "metadata": {},
   "outputs": [],
   "source": []
  },
  {
   "cell_type": "code",
   "execution_count": null,
   "metadata": {},
   "outputs": [],
   "source": []
  },
  {
   "cell_type": "code",
   "execution_count": null,
   "metadata": {},
   "outputs": [],
   "source": []
  },
  {
   "cell_type": "code",
   "execution_count": null,
   "metadata": {},
   "outputs": [],
   "source": []
  },
  {
   "cell_type": "code",
   "execution_count": null,
   "metadata": {},
   "outputs": [],
   "source": []
  },
  {
   "cell_type": "code",
   "execution_count": null,
   "metadata": {},
   "outputs": [],
   "source": []
  },
  {
   "cell_type": "code",
   "execution_count": null,
   "metadata": {},
   "outputs": [],
   "source": []
  },
  {
   "cell_type": "code",
   "execution_count": null,
   "metadata": {},
   "outputs": [],
   "source": []
  },
  {
   "cell_type": "code",
   "execution_count": null,
   "metadata": {},
   "outputs": [],
   "source": []
  },
  {
   "cell_type": "code",
   "execution_count": null,
   "metadata": {},
   "outputs": [],
   "source": []
  },
  {
   "cell_type": "code",
   "execution_count": null,
   "metadata": {},
   "outputs": [],
   "source": []
  },
  {
   "cell_type": "code",
   "execution_count": null,
   "metadata": {},
   "outputs": [],
   "source": []
  },
  {
   "cell_type": "code",
   "execution_count": null,
   "metadata": {},
   "outputs": [],
   "source": []
  },
  {
   "cell_type": "code",
   "execution_count": null,
   "metadata": {},
   "outputs": [],
   "source": []
  },
  {
   "cell_type": "code",
   "execution_count": null,
   "metadata": {},
   "outputs": [],
   "source": []
  },
  {
   "cell_type": "code",
   "execution_count": null,
   "metadata": {},
   "outputs": [],
   "source": []
  },
  {
   "cell_type": "code",
   "execution_count": null,
   "metadata": {},
   "outputs": [],
   "source": []
  }
 ],
 "metadata": {
  "kernelspec": {
   "display_name": "Python 3",
   "language": "python",
   "name": "python3"
  },
  "language_info": {
   "codemirror_mode": {
    "name": "ipython",
    "version": 3
   },
   "file_extension": ".py",
   "mimetype": "text/x-python",
   "name": "python",
   "nbconvert_exporter": "python",
   "pygments_lexer": "ipython3",
   "version": "3.7.3"
  }
 },
 "nbformat": 4,
 "nbformat_minor": 2
}
